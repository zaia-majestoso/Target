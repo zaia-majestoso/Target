{
  "nbformat": 4,
  "nbformat_minor": 0,
  "metadata": {
    "colab": {
      "provenance": [],
      "include_colab_link": true
    },
    "kernelspec": {
      "name": "python3",
      "display_name": "Python 3"
    },
    "language_info": {
      "name": "python"
    }
  },
  "cells": [
    {
      "cell_type": "markdown",
      "metadata": {
        "id": "view-in-github",
        "colab_type": "text"
      },
      "source": [
        "<a href=\"https://colab.research.google.com/github/zaia-majestoso/trab/blob/main/Trabalho_Ra2_Derivadas.ipynb\" target=\"_parent\"><img src=\"https://colab.research.google.com/assets/colab-badge.svg\" alt=\"Open In Colab\"/></a>"
      ]
    },
    {
      "cell_type": "code",
      "source": [
        "#Trabalho realizado pelos estudantes: Eduardo Neves, Caike Augusto, Franklin Jeronimo e Vinicius Zaia\n",
        "#BCC 3B\n",
        "from scipy.optimize import fsolve\n",
        "import sympy as sp\n",
        "import numpy as np\n",
        "import matplotlib.pyplot as plt\n",
        "from mpmath import *\n",
        "from IPython.display import display, Math\n",
        "\n",
        "mp.dps = 21\n",
        "\n",
        "# Definindo a função e sua derivada simbólica (analítica)\n",
        " \n",
        "def f(x):\n",
        "  return 2*x + np.sin(3*x)\n",
        "\n",
        "def df(x):\n",
        "    return 2 + 3 * cos(3 * x)\n",
        "\n",
        "def dev(x):\n",
        "    return 2 + 3 * np.cos(3 * x)\n",
        "\n",
        "def dif_fini(x,h):\n",
        "  dif_fin = (f(x + h) - f(x))/h\n",
        "  return dif_fin\n",
        "\n",
        "def ponto_mid(x,h):\n",
        "  return (f(x + h / 2) - f(x - h / 2)) / h\n",
        "\n",
        "# Parâmetros iniciais\n",
        "x = sp.Symbol('x')\n",
        "h = 10**-7\n",
        "\n",
        "fx = 2 * x + sp.sin(3 * x)\n",
        "fx_num = sp.lambdify(x,fx,'numpy')\n",
        "\n",
        "x_values = np.linspace(0,10, 1000)\n",
        "yf_vals = fx_num(x_values)\n",
        "\n",
        "descend = 0.2\n",
        "\n",
        "# Calculando as derivadas numéricas\n",
        "finite_diff_values = [dif_fini(x, h) for x in x_values]\n",
        "midpoint_values = [ponto_mid(x, h) for x in x_values]\n",
        "\n",
        "error1 = abs(df(descend) - dif_fini(descend, h))\n",
        "error2 = abs(df(descend) - ponto_mid(descend, h))\n",
        "error3 = abs(ponto_mid(descend, h) - dif_fini(descend, h))\n",
        "\n",
        "# Encontrando o ponto onde a tangente é igual a 0\n",
        "x_zero_tangent = fsolve(dev, 0.5) # Use um ponto inicial próximo da solução esperada\n",
        "\n",
        "# Calculando os erros absolutos para esse ponto\n",
        "error1_zero_tangent = abs(dev(x_zero_tangent) - dif_fini(x_zero_tangent, h))\n",
        "error2_zero_tangent = abs(dev(x_zero_tangent) - ponto_mid(x_zero_tangent, h))\n",
        "error3_zero_tangent = abs(ponto_mid(x_zero_tangent, h) - dif_fini(x_zero_tangent, h))\n",
        "\n",
        "# Plotando o gráfico\n",
        "plt.plot(x_values, yf_vals, label='f(x)')\n",
        "plt.plot(x_values, [df(x) for x in x_values], label='Derivada Analítica')\n",
        "plt.plot(x_values, finite_diff_values, label='Diferença Finita', linestyle='--')\n",
        "plt.plot(x_values, midpoint_values, label='Ponto Médio', linestyle=':')\n",
        "plt.xlabel('x')\n",
        "plt.ylabel('f(x)')\n",
        "plt.title('Derivadas Numéricas e Analítica')\n",
        "plt.legend()\n",
        "plt.show()\n",
        "# Imprimindo os resultados\n",
        "print(\"\\n\\n\")\n",
        "\n",
        "display(Math(r'\\text{DERIVADA SIMBOLICA}'))\n",
        "\n",
        "print(\"\\n\")\n",
        "\n",
        "display(Math(r'f(x) = 2x + sen(3x)'))\n",
        "\n",
        "print(\"\\n\")\n",
        "\n",
        "display(Math(r'\\frac{d}{dx}(2x + sen(3x)) = \\frac{d}{dx}2 + 3cos(3x) '))\n",
        "\n",
        "print(\"\\n\\n\")\n",
        "\n",
        "display(Math(r'\\text{DIFERNÇAS FINITAS}'))\n",
        "\n",
        "print(\"\\n\")\n",
        "\n",
        "display(Math(r'f(x) \\equiv \\frac{f(x+h) - f(x)}{h}'))\n",
        "\n",
        "print(\"\\n\")\n",
        "\n",
        "display(Math(r'Utilizando \\,x = 0.2'))\n",
        "\n",
        "display(Math(r'Utilizando \\, h = 1 \\times 10^{-7}'))\n",
        "\n",
        "print(\"\\n\")\n",
        "\n",
        "display(Math(r'f(x) \\equiv \\frac{2(x+h) + sen(3(x+h)) - (2x + sen(3x)) }{h}'))\n",
        "\n",
        "print(\"\\n\")\n",
        "\n",
        "display(Math(r'f(x) \\equiv \\frac{2x+2h + sen(3x+3h) - 2x -sen(3x)}{h}'))\n",
        "\n",
        "print(\"\\n\")\n",
        "\n",
        "display(Math(r'\\text{Versão simplficada: }f(x) \\equiv \\frac{2h + sen(3x+3h) -sen(3x)}{h}'))\n",
        "\n",
        "print(\"\\n\\n\")\n",
        "\n",
        "display(Math(r'\\text{PONTO MÉDIO}'))\n",
        "\n",
        "print(\"\\n\")\n",
        "\n",
        "display(Math(r'\\frac{f(x + \\frac{h}{2}) - f(x - \\frac{h}{2})}{h}'))\n",
        "\n",
        "print(\"\\n\")\n",
        "\n",
        "display(Math(r'f(x) = \\frac{2(x + \\frac{h}{2}) + sen(3(x + \\frac {h}{2})) - (2(x - \\frac{h}{2}) + sen(3(x - \\frac{h}{2})))}{h}'))\n",
        "\n",
        "print(\"\\n\")\n",
        "\n",
        "display(Math(r'f(x) = \\frac{2x + 3\\frac{h}{2} + sen(3(x + \\frac{h}{2}) - (2x + \\frac{h}{2} + sen(3(x - \\frac {h}{2})))}{h}'))\n",
        "\n",
        "print(\"\\n\\n\")\n",
        "\n",
        "print(f\"Ponto onde a tangente é igual a 0: x = {x_zero_tangent[0]:.20f}\")\n",
        "print(f\"Erro absoluto entre derivada analítica e diferença finita: {nstr(error1, 20)}\")\n",
        "print(f\"Erro absoluto entre derivada analítica e ponto médio: {nstr(error2, 20)}\")\n",
        "print(f\"Erro absoluto entre diferença finita e ponto médio : {nstr(error3, 20)}\")\n",
        "print(f\"Erro absoluto entre derivada analítica e diferença finita utilizando da tangente zero: {error1_zero_tangent[0]:.20f}\")\n",
        "print(f\"Erro absoluto entre derivada analítica e ponto médio utilizando da tangente zero: {error2_zero_tangent[0]:.20f}\")\n",
        "print(f\"Erro absoluto entre diferença finita e ponto médio utilizando da tangente zero: {error3_zero_tangent[0]:.20f}\")\n"
      ],
      "metadata": {
        "colab": {
          "base_uri": "https://localhost:8080/",
          "height": 1000
        },
        "id": "knUlD36zoGPM",
        "outputId": "584daf38-526c-4bf3-b74e-d92b741a1d17"
      },
      "execution_count": null,
      "outputs": [
        {
          "output_type": "display_data",
          "data": {
            "text/plain": [
              "<Figure size 640x480 with 1 Axes>"
            ],
            "image/png": "[encoded data removed]"
          },
          "metadata": {}
        },
        {
          "output_type": "stream",
          "name": "stdout",
          "text": [
            "\n",
            "\n",
            "\n"
          ]
        },
        {
          "output_type": "display_data",
          "data": {
            "text/plain": [
              "<IPython.core.display.Math object>"
            ],
            "text/latex": "$\\displaystyle \\text{DERIVADA SIMBOLICA}$"
          },
          "metadata": {}
        },
        {
          "output_type": "stream",
          "name": "stdout",
          "text": [
            "\n",
            "\n"
          ]
        },
        {
          "output_type": "display_data",
          "data": {
            "text/plain": [
              "<IPython.core.display.Math object>"
            ],
            "text/latex": "$\\displaystyle f(x) = 2x + sen(3x)$"
          },
          "metadata": {}
        },
        {
          "output_type": "stream",
          "name": "stdout",
          "text": [
            "\n",
            "\n"
          ]
        },
        {
          "output_type": "display_data",
          "data": {
            "text/plain": [
              "<IPython.core.display.Math object>"
            ],
            "text/latex": "$\\displaystyle \\frac{d}{dx}(2x + sen(3x)) = \\frac{d}{dx}2 + 3cos(3x) $"
          },
          "metadata": {}
        },
        {
          "output_type": "stream",
          "name": "stdout",
          "text": [
            "\n",
            "\n",
            "\n"
          ]
        },
        {
          "output_type": "display_data",
          "data": {
            "text/plain": [
              "<IPython.core.display.Math object>"
            ],
            "text/latex": "$\\displaystyle \\text{DIFERNÇAS FINITAS}$"
          },
          "metadata": {}
        },
        {
          "output_type": "stream",
          "name": "stdout",
          "text": [
            "\n",
            "\n"
          ]
        },
        {
          "output_type": "display_data",
          "data": {
            "text/plain": [
              "<IPython.core.display.Math object>"
            ],
            "text/latex": "$\\displaystyle f(x) \\equiv \\frac{f(x+h) - f(x)}{h}$"
          },
          "metadata": {}
        },
        {
          "output_type": "stream",
          "name": "stdout",
          "text": [
            "\n",
            "\n"
          ]
        },
        {
          "output_type": "display_data",
          "data": {
            "text/plain": [
              "<IPython.core.display.Math object>"
            ],
            "text/latex": "$\\displaystyle Utilizando \\,x = 0.2$"
          },
          "metadata": {}
        },
        {
          "output_type": "display_data",
          "data": {
            "text/plain": [
              "<IPython.core.display.Math object>"
            ],
            "text/latex": "$\\displaystyle Utilizando \\, h = 1 \\times 10^{-7}$"
          },
          "metadata": {}
        },
        {
          "output_type": "stream",
          "name": "stdout",
          "text": [
            "\n",
            "\n"
          ]
        },
        {
          "output_type": "display_data",
          "data": {
            "text/plain": [
              "<IPython.core.display.Math object>"
            ],
            "text/latex": "$\\displaystyle f(x) \\equiv \\frac{2(x+h) + sen(3(x+h)) - (2x + sen(3x)) }{h}$"
          },
          "metadata": {}
        },
        {
          "output_type": "stream",
          "name": "stdout",
          "text": [
            "\n",
            "\n"
          ]
        },
        {
          "output_type": "display_data",
          "data": {
            "text/plain": [
              "<IPython.core.display.Math object>"
            ],
            "text/latex": "$\\displaystyle f(x) \\equiv \\frac{2x+2h + sen(3x+3h) - 2x -sen(3x)}{h}$"
          },
          "metadata": {}
        },
        {
          "output_type": "stream",
          "name": "stdout",
          "text": [
            "\n",
            "\n"
          ]
        },
        {
          "output_type": "display_data",
          "data": {
            "text/plain": [
              "<IPython.core.display.Math object>"
            ],
            "text/latex": "$\\displaystyle \\text{Versão simplficada: }f(x) \\equiv \\frac{2h + sen(3x+3h) -sen(3x)}{h}$"
          },
          "metadata": {}
        },
        {
          "output_type": "stream",
          "name": "stdout",
          "text": [
            "\n",
            "\n",
            "\n"
          ]
        },
        {
          "output_type": "display_data",
          "data": {
            "text/plain": [
              "<IPython.core.display.Math object>"
            ],
            "text/latex": "$\\displaystyle \\text{PONTO MÉDIO}$"
          },
          "metadata": {}
        },
        {
          "output_type": "stream",
          "name": "stdout",
          "text": [
            "\n",
            "\n"
          ]
        },
        {
          "output_type": "display_data",
          "data": {
            "text/plain": [
              "<IPython.core.display.Math object>"
            ],
            "text/latex": "$\\displaystyle \\frac{f(x + \\frac{h}{2}) - f(x - \\frac{h}{2})}{h}$"
          },
          "metadata": {}
        },
        {
          "output_type": "stream",
          "name": "stdout",
          "text": [
            "\n",
            "\n"
          ]
        },
        {
          "output_type": "display_data",
          "data": {
            "text/plain": [
              "<IPython.core.display.Math object>"
            ],
            "text/latex": "$\\displaystyle f(x) = \\frac{2(x + \\frac{h}{2}) + sen(3(x + \\frac {h}{2})) - (2(x - \\frac{h}{2}) + sen(3(x - \\frac{h}{2})))}{h}$"
          },
          "metadata": {}
        },
        {
          "output_type": "stream",
          "name": "stdout",
          "text": [
            "\n",
            "\n"
          ]
        },
        {
          "output_type": "display_data",
          "data": {
            "text/plain": [
              "<IPython.core.display.Math object>"
            ],
            "text/latex": "$\\displaystyle f(x) = \\frac{2x + 3\\frac{h}{2} + sen(3(x + \\frac{h}{2}) - (2x + \\frac{h}{2} + sen(3(x - \\frac {h}{2})))}{h}$"
          },
          "metadata": {}
        },
        {
          "output_type": "stream",
          "name": "stdout",
          "text": [
            "\n",
            "\n",
            "\n",
            "Ponto onde a tangente é igual a 0: x = 0.76684132767395429831\n",
            "Erro absoluto entre derivada analítica e diferença finita: 2.5491375019921621518e-7\n",
            "Erro absoluto entre derivada analítica e ponto médio: 4.3754546456978911807e-10\n",
            "Erro absoluto entre diferença finita e ponto médio : 2.55351295663786e-07\n",
            "Erro absoluto entre derivada analítica e diferença finita utilizando da tangente zero: 0.00000033306690738755\n",
            "Erro absoluto entre derivada analítica e ponto médio utilizando da tangente zero: 0.00000000444089209850\n",
            "Erro absoluto entre diferença finita e ponto médio utilizando da tangente zero: 0.00000032862601528905\n"
          ]
        }
      ]
    }
  ]
}