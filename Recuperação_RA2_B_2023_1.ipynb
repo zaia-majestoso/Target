{
  "nbformat": 4,
  "nbformat_minor": 0,
  "metadata": {
    "colab": {
      "provenance": [],
      "include_colab_link": true
    },
    "kernelspec": {
      "name": "python3",
      "display_name": "Python 3"
    },
    "language_info": {
      "name": "python"
    }
  },
  "cells": [
    {
      "cell_type": "markdown",
      "metadata": {
        "id": "view-in-github",
        "colab_type": "text"
      },
      "source": [
        "<a href=\"https://colab.research.google.com/github/zaia-majestoso/trab/blob/main/Recupera%C3%A7%C3%A3o_RA2_B_2023_1.ipynb\" target=\"_parent\"><img src=\"https://colab.research.google.com/assets/colab-badge.svg\" alt=\"Open In Colab\"/></a>"
      ]
    },
    {
      "cell_type": "markdown",
      "source": [
        "# Questão 1\n",
        "Derivem as funções a seguir. \n",
        "Para todas as derivadas apresente a álgebra necessária explicitando matematicamente, com latex, a aplicação de todas as regras, simplificações necessárias. Não deixe de plotar os gráficos das funçoes e das derivadas usando o matplotlib.\n",
        "\n",
        "## 1. \n",
        "$$f(x) = x^3 + 5x^2 - 7x + 9$$\n",
        "\n",
        "## 3\n",
        "$$g(x) = e^x \\cos(x)$$\n"
      ],
      "metadata": {
        "id": "3wSNrRGPbpf8"
      }
    },
    {
      "cell_type": "code",
      "source": [
        "import numpy as np\n",
        "import matplotlib.pyplot as plt\n",
        "from sympy import symbols, diff, exp, cos, sin, lambdify\n",
        "\n",
        "#fx e sua derivada\n",
        "def f(x):\n",
        "    return x**3 + 5*x**2 - 7*x + 9\n",
        "\n",
        "def derivada(x):\n",
        "    return 3*x**2 + 10*x - 7\n",
        "\n",
        "\n",
        "x = np.linspace(-10, 10, 400)\n",
        "\n",
        "# Calculando y para a função original e sua derivada\n",
        "y = f(x)\n",
        "dy = derivada(x)\n",
        "\n",
        "\n",
        "plt.figure(figsize=(12, 6))\n",
        "\n",
        "# Original\n",
        "plt.subplot(1, 2, 1)\n",
        "plt.plot(x, y, label='f(x) = x^3 + 5x^2 - 7x + 9')\n",
        "plt.xlabel('x')\n",
        "plt.ylabel('f(x)')\n",
        "plt.grid(True)\n",
        "plt.legend()\n",
        "\n",
        "# Derivada\n",
        "plt.subplot(1, 2, 2)\n",
        "plt.plot(x, dy, label=\"d/dx f'(x) = 3x^2 + 10x - 7\", color='orange')\n",
        "plt.xlabel('x')\n",
        "plt.ylabel(\"f'(x)\")\n",
        "plt.grid(True)\n",
        "plt.legend()\n",
        "\n",
        "# Mostrando o gráfico\n",
        "plt.tight_layout()\n",
        "plt.show()\n",
        "\n",
        "#LATEX\n",
        "from IPython.display import display, Math\n",
        "display(Math('f(x) = x^3 + 5x^2-7x + 9'))\n",
        "#derivada da constante é zero\n",
        "display(Math('\\\\frac{{d}}{{dx}}9 = 0'))\n",
        "print(\"\\n\")\n",
        "#derivada de -7x\n",
        "display(Math('\\\\frac{{d}}{{dx}}(-7x) = -7'))\n",
        "print(\"\\n\")\n",
        "#derivada de x2 é 2x == 5*2x =10x\n",
        "display(Math('\\\\frac{{d}}{{dx}}(5x^2) = 10x'))\n",
        "print(\"\\n\")\n",
        "display(Math('\\\\frac{{d}}{{dx}}(x^3) = 3x^2'))\n",
        "#derivada de x3 é 3x^2\n",
        "print(\"\\n\")\n",
        "#somando \n",
        "display(Math(\"\\\\frac{{d}}{{dx}}(x^3 + 5x^2 - 7x + 9) = 3x^2 + 10x - 7\"))\n",
        "\n",
        "\n",
        "\n",
        "\n",
        "x = symbols('x')\n",
        "#funcao original\n",
        "f = exp(x) * cos(x)\n",
        "\n",
        "#achando a derivada\n",
        "df = diff(f, x)\n",
        "\n",
        "f_lambdified = lambdify(x, f, \"numpy\")\n",
        "df_lambdified = lambdify(x, df, \"numpy\")\n",
        "\n",
        "#definindo x e y\n",
        "x_vals = np.linspace(-2*np.pi, 2*np.pi, 1000)\n",
        "y_vals = f_lambdified(x_vals)\n",
        "dy_vals = df_lambdified(x_vals)\n",
        "# Original\n",
        "plt.figure(figsize=(10, 5))\n",
        "plt.plot(x_vals, y_vals, label='e^x * cos(x)')\n",
        "plt.xlabel('x')\n",
        "plt.ylabel('y')\n",
        "plt.legend()\n",
        "plt.grid(True)\n",
        "\n",
        "\n",
        "# Derivada\n",
        "plt.figure(figsize=(10, 5))\n",
        "plt.plot(x_vals, dy_vals, label='e^x * (cos(x) - sin(x))', color=\"orange\")\n",
        "plt.xlabel('x')\n",
        "plt.ylabel('y')\n",
        "plt.legend()\n",
        "plt.grid(True)\n",
        "\n",
        "plt.tight_layout()\n",
        "plt.show()\n",
        "\n",
        "display(Math(r\"f(x) = e^x \\cos(x)\"))\n",
        "print(\"\\n\")\n",
        "#usaremos a notação de Leibniz\n",
        "display(Math(r\"u(x) = e^x\"))\n",
        "print(\"\\n\")\n",
        "#encontrando as derivadas de u(x) e v(x)\n",
        "display(Math(r\"v(x) = \\cos(x)\"))\n",
        "print(\"\\n\")\n",
        "#a derivada de ex é ex\n",
        "display(Math(r\"u'(x) = e^x\"))\n",
        "print(\"\\n\")\n",
        "#derivada de cos(x) é -sen(x)\n",
        "display(Math(r\"v'(x) = -\\sin(x)\"))\n",
        "print(\"\\n\")\n",
        "#regra do produto\n",
        "display(Math(r\"f'(x) = u'(x)v(x) + u(x)v'(x) = e^x \\cos(x) + e^x (-\\sin(x)) = e^x (\\cos(x) - \\sin(x))\"))\n"
      ],
      "metadata": {
        "colab": {
          "base_uri": "https://localhost:8080/",
          "height": 1000
        },
        "id": "ECCjZ-zakK24",
        "outputId": "a369a7d3-2ed4-4d40-ce24-5d6da7f49d42"
      },
      "execution_count": 10,
      "outputs": [
        {
          "output_type": "display_data",
          "data": {
            "text/plain": [
              "<Figure size 1200x600 with 2 Axes>"
            ],
            "image/png": "[encoded data removed]"
          },
          "metadata": {}
        },
        {
          "output_type": "display_data",
          "data": {
            "text/plain": [
              "<IPython.core.display.Math object>"
            ],
            "text/latex": "$\\displaystyle f(x) = x^3 + 5x^2-7x + 9$"
          },
          "metadata": {}
        },
        {
          "output_type": "display_data",
          "data": {
            "text/plain": [
              "<IPython.core.display.Math object>"
            ],
            "text/latex": "$\\displaystyle \\frac{{d}}{{dx}}9 = 0$"
          },
          "metadata": {}
        },
        {
          "output_type": "stream",
          "name": "stdout",
          "text": [
            "\n",
            "\n"
          ]
        },
        {
          "output_type": "display_data",
          "data": {
            "text/plain": [
              "<IPython.core.display.Math object>"
            ],
            "text/latex": "$\\displaystyle \\frac{{d}}{{dx}}(-7x) = -7$"
          },
          "metadata": {}
        },
        {
          "output_type": "stream",
          "name": "stdout",
          "text": [
            "\n",
            "\n"
          ]
        },
        {
          "output_type": "display_data",
          "data": {
            "text/plain": [
              "<IPython.core.display.Math object>"
            ],
            "text/latex": "$\\displaystyle \\frac{{d}}{{dx}}(5x^2) = 10x$"
          },
          "metadata": {}
        },
        {
          "output_type": "stream",
          "name": "stdout",
          "text": [
            "\n",
            "\n"
          ]
        },
        {
          "output_type": "display_data",
          "data": {
            "text/plain": [
              "<IPython.core.display.Math object>"
            ],
            "text/latex": "$\\displaystyle \\frac{{d}}{{dx}}(x^3) = 3x^2$"
          },
          "metadata": {}
        },
        {
          "output_type": "stream",
          "name": "stdout",
          "text": [
            "\n",
            "\n"
          ]
        },
        {
          "output_type": "display_data",
          "data": {
            "text/plain": [
              "<IPython.core.display.Math object>"
            ],
            "text/latex": "$\\displaystyle \\frac{{d}}{{dx}}(x^3 + 5x^2 - 7x + 9) = 3x^2 + 10x - 7$"
          },
          "metadata": {}
        },
        {
          "output_type": "display_data",
          "data": {
            "text/plain": [
              "<Figure size 1000x500 with 1 Axes>"
            ],
            "image/png": "[encoded data removed]"
          },
          "metadata": {}
        },
        {
          "output_type": "display_data",
          "data": {
            "text/plain": [
              "<Figure size 1000x500 with 1 Axes>"
            ],
            "image/png": "[encoded data removed]"
          },
          "metadata": {}
        },
        {
          "output_type": "display_data",
          "data": {
            "text/plain": [
              "<IPython.core.display.Math object>"
            ],
            "text/latex": "$\\displaystyle f(x) = e^x \\cos(x)$"
          },
          "metadata": {}
        },
        {
          "output_type": "stream",
          "name": "stdout",
          "text": [
            "\n",
            "\n"
          ]
        },
        {
          "output_type": "display_data",
          "data": {
            "text/plain": [
              "<IPython.core.display.Math object>"
            ],
            "text/latex": "$\\displaystyle u(x) = e^x$"
          },
          "metadata": {}
        },
        {
          "output_type": "stream",
          "name": "stdout",
          "text": [
            "\n",
            "\n"
          ]
        },
        {
          "output_type": "display_data",
          "data": {
            "text/plain": [
              "<IPython.core.display.Math object>"
            ],
            "text/latex": "$\\displaystyle v(x) = \\cos(x)$"
          },
          "metadata": {}
        },
        {
          "output_type": "stream",
          "name": "stdout",
          "text": [
            "\n",
            "\n"
          ]
        },
        {
          "output_type": "display_data",
          "data": {
            "text/plain": [
              "<IPython.core.display.Math object>"
            ],
            "text/latex": "$\\displaystyle u'(x) = e^x$"
          },
          "metadata": {}
        },
        {
          "output_type": "stream",
          "name": "stdout",
          "text": [
            "\n",
            "\n"
          ]
        },
        {
          "output_type": "display_data",
          "data": {
            "text/plain": [
              "<IPython.core.display.Math object>"
            ],
            "text/latex": "$\\displaystyle v'(x) = -\\sin(x)$"
          },
          "metadata": {}
        },
        {
          "output_type": "stream",
          "name": "stdout",
          "text": [
            "\n",
            "\n"
          ]
        },
        {
          "output_type": "display_data",
          "data": {
            "text/plain": [
              "<IPython.core.display.Math object>"
            ],
            "text/latex": "$\\displaystyle f'(x) = u'(x)v(x) + u(x)v'(x) = e^x \\cos(x) + e^x (-\\sin(x)) = e^x (\\cos(x) - \\sin(x))$"
          },
          "metadata": {}
        }
      ]
    },
    {
      "cell_type": "markdown",
      "source": [
        "# Questão 2\n",
        "Resolva as derivadas a seguir explicitando todo o processo algébrico necessário para isso.\n",
        "\n",
        "##1. \n",
        "Calcule a derivada da função: $g(x) = e^x \\cos(x)$ para $x=5$.\n",
        "\n",
        "##2. \n",
        "Calcule a função: $j(x) = \\sqrt{x} \\ln(x)$ para $x=3$\n",
        "\n"
      ],
      "metadata": {
        "id": "0_DszQmPjuBW"
      }
    },
    {
      "cell_type": "code",
      "source": [
        "display(Math(r\"f(x) = e^x \\cos(x)\"))\n",
        "print(\"\\n\")\n",
        "#usaremos a notação de Leibniz\n",
        "display(Math(r\"u(x) = e^x\"))\n",
        "\n",
        "#encontrando as derivadas de u(x) e v(x)\n",
        "display(Math(r\"v(x) = \\cos(x)\"))\n",
        "\n",
        "#a derivada de ex é ex\n",
        "display(Math(r\"u'(x) = e^x\"))\n",
        "\n",
        "#derivada de cos(x) é -sen(x)\n",
        "display(Math(r\"v'(x) = -\\sin(x)\"))\n",
        "\n",
        "#regra do produto\n",
        "display(Math(r\"f'(x) = u'(x)v(x) + u(x)v'(x) = e^x \\cos(x) + e^x (-\\sin(x)) = e^x (\\cos(x) - \\sin(x))\"))\n",
        "print(\"\\n\")\n",
        "#substituimos x por 5\n",
        "display(Math(r\"f'(x)  = e^5 (\\cos(5) - \\sin(5))\"))\n",
        "display(Math(r\"f'(x)  = 184.416\"))\n",
        "print(\"\\n\")\n",
        "print(\"\\n\")\n",
        "display(Math('j(x) = sqrt(x)log(x)'))\n",
        "display(Math('\\\\frac{{d}}{{dx}}j(x) = sqrt(x)log(x) = \\\\frac{log(x) + 2}{2 sqrt(x)} '))\n",
        "print(\"\\n\")\n",
        "#substituindo x por 3\n",
        "display(Math('\\\\frac{{d}}{{dx}}\\\\frac{log(3) + 2}{2 sqrt(3)} '))\n",
        "print(\"\\n\")\n",
        "\n",
        "display(Math('\\\\frac{(log(3) + 2)*sqrt(3)}{2 sqrt(3)*sqrt(3)}'))\n",
        "print(\"\\n\")\n",
        "display(Math('\\\\frac{sqrt(3)(log(3) + 2)}{6}'))\n"
      ],
      "metadata": {
        "colab": {
          "base_uri": "https://localhost:8080/",
          "height": 578
        },
        "id": "FrLH6UBgtd-i",
        "outputId": "325328b5-b3a5-4513-fb3a-adb68f880c0d"
      },
      "execution_count": 29,
      "outputs": [
        {
          "output_type": "display_data",
          "data": {
            "text/plain": [
              "<IPython.core.display.Math object>"
            ],
            "text/latex": "$\\displaystyle f(x) = e^x \\cos(x)$"
          },
          "metadata": {}
        },
        {
          "output_type": "stream",
          "name": "stdout",
          "text": [
            "\n",
            "\n"
          ]
        },
        {
          "output_type": "display_data",
          "data": {
            "text/plain": [
              "<IPython.core.display.Math object>"
            ],
            "text/latex": "$\\displaystyle u(x) = e^x$"
          },
          "metadata": {}
        },
        {
          "output_type": "display_data",
          "data": {
            "text/plain": [
              "<IPython.core.display.Math object>"
            ],
            "text/latex": "$\\displaystyle v(x) = \\cos(x)$"
          },
          "metadata": {}
        },
        {
          "output_type": "display_data",
          "data": {
            "text/plain": [
              "<IPython.core.display.Math object>"
            ],
            "text/latex": "$\\displaystyle u'(x) = e^x$"
          },
          "metadata": {}
        },
        {
          "output_type": "display_data",
          "data": {
            "text/plain": [
              "<IPython.core.display.Math object>"
            ],
            "text/latex": "$\\displaystyle v'(x) = -\\sin(x)$"
          },
          "metadata": {}
        },
        {
          "output_type": "display_data",
          "data": {
            "text/plain": [
              "<IPython.core.display.Math object>"
            ],
            "text/latex": "$\\displaystyle f'(x) = u'(x)v(x) + u(x)v'(x) = e^x \\cos(x) + e^x (-\\sin(x)) = e^x (\\cos(x) - \\sin(x))$"
          },
          "metadata": {}
        },
        {
          "output_type": "stream",
          "name": "stdout",
          "text": [
            "\n",
            "\n"
          ]
        },
        {
          "output_type": "display_data",
          "data": {
            "text/plain": [
              "<IPython.core.display.Math object>"
            ],
            "text/latex": "$\\displaystyle f'(x)  = e^5 (\\cos(5) - \\sin(5))$"
          },
          "metadata": {}
        },
        {
          "output_type": "display_data",
          "data": {
            "text/plain": [
              "<IPython.core.display.Math object>"
            ],
            "text/latex": "$\\displaystyle f'(x)  = 184.416$"
          },
          "metadata": {}
        },
        {
          "output_type": "stream",
          "name": "stdout",
          "text": [
            "\n",
            "\n",
            "\n",
            "\n"
          ]
        },
        {
          "output_type": "display_data",
          "data": {
            "text/plain": [
              "<IPython.core.display.Math object>"
            ],
            "text/latex": "$\\displaystyle j(x) = sqrt(x)log(x)$"
          },
          "metadata": {}
        },
        {
          "output_type": "display_data",
          "data": {
            "text/plain": [
              "<IPython.core.display.Math object>"
            ],
            "text/latex": "$\\displaystyle \\frac{{d}}{{dx}}j(x) = sqrt(x)log(x) = \\frac{log(x) + 2}{2 sqrt(x)} $"
          },
          "metadata": {}
        },
        {
          "output_type": "stream",
          "name": "stdout",
          "text": [
            "\n",
            "\n"
          ]
        },
        {
          "output_type": "display_data",
          "data": {
            "text/plain": [
              "<IPython.core.display.Math object>"
            ],
            "text/latex": "$\\displaystyle \\frac{{d}}{{dx}}\\frac{log(3) + 2}{2 sqrt(3)} $"
          },
          "metadata": {}
        },
        {
          "output_type": "stream",
          "name": "stdout",
          "text": [
            "\n",
            "\n"
          ]
        },
        {
          "output_type": "display_data",
          "data": {
            "text/plain": [
              "<IPython.core.display.Math object>"
            ],
            "text/latex": "$\\displaystyle \\frac{(log(3) + 2)*sqrt(3)}{2 sqrt(3)*sqrt(3)}$"
          },
          "metadata": {}
        },
        {
          "output_type": "display_data",
          "data": {
            "text/plain": [
              "<IPython.core.display.Math object>"
            ],
            "text/latex": "$\\displaystyle \\frac{sqrt(3)(log(3) + 2)}{6}$"
          },
          "metadata": {}
        }
      ]
    },
    {
      "cell_type": "markdown",
      "source": [
        "# Questão 3\n",
        "Usando o python, numpy, encontre o máximo local de $$f(x)=x^2-98x+4$$ para $0 \\leq x \\leq 100$. \n",
        " "
      ],
      "metadata": {
        "id": "9rNj-C5pvWP0"
      }
    },
    {
      "cell_type": "code",
      "source": [
        "import numpy as np\n",
        "from sympy import diff\n",
        "\n",
        "\n",
        "x = symbols('x')\n",
        "f = x**2 - 98*x + 4\n",
        "df = diff(f,x) #para encontrar a derivada\n",
        "\n",
        "\n",
        "#derivada\n",
        "display(Math(\"\\\\frac{{d}}{{dx}}(x^2 - 98x + 4) = 2x - 98\"))\n",
        "#igualando a zero para achar o ponto critico\n",
        "display(Math(\"f'(x) = 0 = 2x - 98\"))\n",
        "display(Math(\"x = 49\"))#ponto critico\n",
        "print(\"\\n\")\n",
        "#verificamos as extremidades e o ponto critico\n",
        "display(Math(\"f(0) = 0^2 - 98(0) + 4 = 4\"))\n",
        "display(Math(\"f(49) = x^49 - 98(49) + 4 = -2401\"))\n",
        "display(Math(\"f(100) = x^100 - 98(100) + 4 = 204\"))\n"
      ],
      "metadata": {
        "colab": {
          "base_uri": "https://localhost:8080/",
          "height": 196
        },
        "id": "Lb0TNeOMvBU_",
        "outputId": "7a78794c-43de-4d7d-f33a-7d75c2700e3f"
      },
      "execution_count": 16,
      "outputs": [
        {
          "output_type": "display_data",
          "data": {
            "text/plain": [
              "<IPython.core.display.Math object>"
            ],
            "text/latex": "$\\displaystyle \\frac{{d}}{{dx}}(x^2 - 98x + 4) = 2x - 98$"
          },
          "metadata": {}
        },
        {
          "output_type": "display_data",
          "data": {
            "text/plain": [
              "<IPython.core.display.Math object>"
            ],
            "text/latex": "$\\displaystyle f'(x) = 0 = 2x - 98$"
          },
          "metadata": {}
        },
        {
          "output_type": "display_data",
          "data": {
            "text/plain": [
              "<IPython.core.display.Math object>"
            ],
            "text/latex": "$\\displaystyle x = 49$"
          },
          "metadata": {}
        },
        {
          "output_type": "stream",
          "name": "stdout",
          "text": [
            "\n",
            "\n"
          ]
        },
        {
          "output_type": "display_data",
          "data": {
            "text/plain": [
              "<IPython.core.display.Math object>"
            ],
            "text/latex": "$\\displaystyle f(0) = 0^2 - 98(0) + 4 = 4$"
          },
          "metadata": {}
        },
        {
          "output_type": "display_data",
          "data": {
            "text/plain": [
              "<IPython.core.display.Math object>"
            ],
            "text/latex": "$\\displaystyle f(49) = x^49 - 98(49) + 4 = -2401$"
          },
          "metadata": {}
        },
        {
          "output_type": "display_data",
          "data": {
            "text/plain": [
              "<IPython.core.display.Math object>"
            ],
            "text/latex": "$\\displaystyle f(100) = x^100 - 98(100) + 4 = 204$"
          },
          "metadata": {}
        }
      ]
    }
  ]
}